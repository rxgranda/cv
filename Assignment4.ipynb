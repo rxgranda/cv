{
 "cells": [
  {
   "cell_type": "markdown",
   "metadata": {},
   "source": [
    "# Assignment 4\n",
    "\n",
    "### 1. Import Libraries"
   ]
  },
  {
   "cell_type": "code",
   "execution_count": 1,
   "metadata": {},
   "outputs": [
    {
     "name": "stderr",
     "output_type": "stream",
     "text": [
      "Using TensorFlow backend.\n"
     ]
    }
   ],
   "source": [
    "import numpy as np\n",
    "from keras.datasets import cifar10\n",
    "import cv2\n",
    "from sklearn.model_selection import train_test_split"
   ]
  },
  {
   "cell_type": "markdown",
   "metadata": {},
   "source": [
    "### Load Data"
   ]
  },
  {
   "cell_type": "code",
   "execution_count": 2,
   "metadata": {},
   "outputs": [],
   "source": [
    "(xtrain,ytrain),(xtest,ytest)=cifar10.load_data()\n",
    "xtrain, xvalidation, ytrain, yvalidation = train_test_split(xtrain, ytrain, test_size=0.2, random_state=42)"
   ]
  },
  {
   "cell_type": "markdown",
   "metadata": {},
   "source": [
    "## Feature 1: RGB Color Histogram"
   ]
  },
  {
   "cell_type": "code",
   "execution_count": 24,
   "metadata": {},
   "outputs": [],
   "source": [
    "## Feature 1 (RGB Color Histograms)\n",
    "histogramsTrain=[]\n",
    "for i, img in enumerate(xtrain):\n",
    "    hist0 = cv2.calcHist([xtrain[i]],[0],None,[256],[0,256])\n",
    "    hist1 = cv2.calcHist([xtrain[i]],[1],None,[256],[0,256])\n",
    "    hist2 = cv2.calcHist([xtrain[i]],[2],None,[256],[0,256])\n",
    "    hist=np.concatenate((hist0, hist1,hist2), axis=1)\n",
    "    histogramsTrain.append(hist)\n",
    "histogramsVal=[]\n",
    "for i, img in enumerate(xtest):\n",
    "    hist0 = cv2.calcHist([xtest[i]],[0],None,[256],[0,256])\n",
    "    hist1 = cv2.calcHist([xtest[i]],[1],None,[256],[0,256])\n",
    "    hist2 = cv2.calcHist([xtest[i]],[2],None,[256],[0,256])\n",
    "    hist=np.concatenate((hist0, hist1,hist2), axis=1)\n",
    "    histogramsVal.append(hist)"
   ]
  },
  {
   "cell_type": "markdown",
   "metadata": {},
   "source": [
    "## Feature 2: HOG Descriptors"
   ]
  },
  {
   "cell_type": "code",
   "execution_count": 7,
   "metadata": {},
   "outputs": [],
   "source": [
    "## Feature 2 (HOG Descriptors)\n",
    "winSize = (32,32)\n",
    "blockSize = (8,8)\n",
    "blockStride = (4,4)\n",
    "cellSize = (4,4)\n",
    "nbins = 9\n",
    "derivAperture = 1\n",
    "winSigma = 4.\n",
    "histogramNormType = 0\n",
    "L2HysThreshold = 2.0000000000000001e-01\n",
    "gammaCorrection = 0\n",
    "nlevels = 64\n",
    "hog = cv2.HOGDescriptor(winSize,blockSize,blockStride,cellSize,nbins,derivAperture,winSigma,\n",
    "                        histogramNormType,L2HysThreshold,gammaCorrection,nlevels)\n",
    "hogTrain=[]\n",
    "for i, img in enumerate(xtrain):\n",
    "    gray = cv2.cvtColor(xtrain[i], cv2.COLOR_BGR2GRAY)\n",
    "    hist = hog.compute(gray)\n",
    "    hogTrain.append(hist)\n",
    "\n",
    "hogVal=[]\n",
    "for i, img in enumerate(xtest):\n",
    "    gray = cv2.cvtColor(xtrain[i], cv2.COLOR_BGR2GRAY)\n",
    "    hist = hog.compute(gray)\n",
    "    hogVal.append(hist)"
   ]
  },
  {
   "cell_type": "markdown",
   "metadata": {},
   "source": [
    "## Feature 3: Deep Learning Model Feature Representation "
   ]
  },
  {
   "cell_type": "code",
   "execution_count": 12,
   "metadata": {},
   "outputs": [],
   "source": [
    "from keras.applications.inception_v3 import InceptionV3, preprocess_input\n",
    "import scipy\n",
    "from scipy import misc\n",
    "import keras"
   ]
  },
  {
   "cell_type": "markdown",
   "metadata": {},
   "source": [
    "### Definition of the model: Reusing a pretrained network"
   ]
  },
  {
   "cell_type": "code",
   "execution_count": 13,
   "metadata": {},
   "outputs": [],
   "source": [
    "model = InceptionV3(weights='imagenet', include_top=False, input_shape=(96, 96, 3))"
   ]
  },
  {
   "cell_type": "markdown",
   "metadata": {},
   "source": [
    "### Feature Extraction (Training, validation)"
   ]
  },
  {
   "cell_type": "code",
   "execution_count": 14,
   "metadata": {},
   "outputs": [
    {
     "name": "stderr",
     "output_type": "stream",
     "text": [
      "c:\\program files\\python36\\lib\\site-packages\\ipykernel_launcher.py:3: DeprecationWarning: `imresize` is deprecated!\n",
      "`imresize` is deprecated in SciPy 1.0.0, and will be removed in 1.3.0.\n",
      "Use Pillow instead: ``numpy.array(Image.fromarray(arr).resize())``.\n",
      "  This is separate from the ipykernel package so we can avoid doing imports until\n",
      "c:\\program files\\python36\\lib\\site-packages\\ipykernel_launcher.py:7: DeprecationWarning: `imresize` is deprecated!\n",
      "`imresize` is deprecated in SciPy 1.0.0, and will be removed in 1.3.0.\n",
      "Use Pillow instead: ``numpy.array(Image.fromarray(arr).resize())``.\n",
      "  import sys\n"
     ]
    }
   ],
   "source": [
    "x_trainResized=[]\n",
    "for i in range(0, len(xtrain)):\n",
    "    x_trainResized.append(scipy.misc.imresize(xtrain[i], (96, 96, 3)))\n",
    "x_trainResized = np.array(x_trainResized).astype('float32')\n",
    "x_valResized=[]\n",
    "for i in range(0, len(xvalidation)):\n",
    "    x_valResized.append(scipy.misc.imresize(xvalidation[i], (96, 96, 3)))\n",
    "x_valResized = np.array(x_valResized).astype('float32')\n",
    "x_train_preproced = preprocess_input(x_trainResized)\n",
    "x_validation_preproced = preprocess_input(x_valResized)"
   ]
  },
  {
   "cell_type": "code",
   "execution_count": 15,
   "metadata": {},
   "outputs": [],
   "source": [
    "#Training Features Deep Learning Model\n",
    "featuresTraining = model.predict(x_train_preproced)\n",
    "featuresTraining = np.squeeze(featuresTraining)\n"
   ]
  },
  {
   "cell_type": "code",
   "execution_count": 41,
   "metadata": {},
   "outputs": [],
   "source": [
    "#Validation Features Deep Learning Model\n",
    "featuresValidation = model.predict(x_validation_preproced)\n",
    "featuresValidation = np.squeeze(featuresValidation)"
   ]
  },
  {
   "cell_type": "markdown",
   "metadata": {},
   "source": [
    "## Features Evaluation and Selection"
   ]
  },
  {
   "cell_type": "code",
   "execution_count": 95,
   "metadata": {},
   "outputs": [
    {
     "name": "stdout",
     "output_type": "stream",
     "text": [
      "Evaluation::\n",
      "Color Histograms\n",
      "F1-Score: 0.18758280934751528\n",
      "-------------\n",
      "Evaluation::\n",
      "HOG - HISTOGRAMS OF GRADIENTS\n",
      "F1-Score: 0.11350863189098483\n",
      "-------------\n",
      "Evaluation::\n",
      "Deep Neural Network\n",
      "F1-Score: 0.5688122747565472\n"
     ]
    }
   ],
   "source": [
    "from scipy.spatial.distance import euclidean\n",
    "#Best Feature Selection\n",
    "##HOG Distance\n",
    "def evaluateFeature(method):\n",
    "    if method==0:\n",
    "        print(\"Color Histograms\")\n",
    "        FEATURE_TRAINING=histogramsTrain\n",
    "        FEATURE_VAL=histogramsVal\n",
    "    elif method==1:\n",
    "        print(\"HOG - HISTOGRAMS OF GRADIENTS\")\n",
    "        FEATURE_TRAINING=hogTrain\n",
    "        FEATURE_VAL=hogVal\n",
    "    else:\n",
    "        print(\"Deep Neural Network\")\n",
    "        FEATURE_TRAINING=featuresTraining\n",
    "        FEATURE_VAL=featuresValidation\n",
    "    N_predictions=10\n",
    "    fScores=[]\n",
    "    for i in range(len(xvalidation[:100])):\n",
    "        #i=0\n",
    "        \n",
    "        x2=FEATURE_VAL[i]\n",
    "        target=yvalidation[i][0]\n",
    "        #print(target)\n",
    "        distances={}\n",
    "        totalClass=0\n",
    "        for j in range(len(FEATURE_TRAINING)):\n",
    "            x1=FEATURE_TRAINING[j]\n",
    "            dis=np.linalg.norm(x1-x2)\n",
    "            distances[j]=dis\n",
    "            if(target==ytrain[j]):\n",
    "                totalClass+=1\n",
    "        #print(totalClass)\n",
    "\n",
    "        sorted_distances = sorted(distances.items(), key=lambda kv: kv[1])\n",
    "        sorted_distances=sorted_distances[:N_predictions]\n",
    "        meanTheshold=np.array(list(dict(sorted_distances).values())).mean()\n",
    "        truePositives=0\n",
    "        total2=0\n",
    "        for index,distance in sorted_distances:\n",
    "            predictedLabel=ytrain[index]\n",
    "            if(predictedLabel==target):\n",
    "                truePositives+=1\n",
    "            if (distance<meanTheshold):\n",
    "                total2+=1\n",
    "            #print(predictedLabel)\n",
    "        precision=truePositives/N_predictions\n",
    "        recall=N_predictions/N_predictions\n",
    "        f1Score=2*(precision*recall)/(precision+recall)\n",
    "        fScores.append(f1Score)\n",
    "    #print(precision)\n",
    "    #print(recall)\n",
    "    print(\"F1-Score: \"+str(np.array(fScores).mean()))\n",
    "print(\"Evaluation::\")\n",
    "evaluateFeature(0)\n",
    "print(\"-------------\")\n",
    "print(\"Evaluation::\")\n",
    "evaluateFeature(1)\n",
    "print(\"-------------\")\n",
    "print(\"Evaluation::\")\n",
    "evaluateFeature(2)"
   ]
  },
  {
   "cell_type": "markdown",
   "metadata": {},
   "source": [
    "# Content Bases Information Retrieval"
   ]
  },
  {
   "cell_type": "markdown",
   "metadata": {},
   "source": [
    "### Test set preprocesing"
   ]
  },
  {
   "cell_type": "code",
   "execution_count": 101,
   "metadata": {},
   "outputs": [
    {
     "name": "stderr",
     "output_type": "stream",
     "text": [
      "c:\\program files\\python36\\lib\\site-packages\\ipykernel_launcher.py:4: DeprecationWarning: `imresize` is deprecated!\n",
      "`imresize` is deprecated in SciPy 1.0.0, and will be removed in 1.3.0.\n",
      "Use Pillow instead: ``numpy.array(Image.fromarray(arr).resize())``.\n",
      "  after removing the cwd from sys.path.\n"
     ]
    }
   ],
   "source": [
    "## Preprocess Test Images\n",
    "x_testResized=[]\n",
    "for i in range(0, len(xtest)):\n",
    "    x_testResized.append(scipy.misc.imresize(xtest[i], (96, 96, 3)))\n",
    "x_testResized = np.array(x_testResized).astype('float32')\n",
    "x_test_preproced = preprocess_input(x_testResized)\n",
    "featuresTest = model.predict(x_test_preproced)"
   ]
  },
  {
   "cell_type": "markdown",
   "metadata": {},
   "source": [
    "## System Demo"
   ]
  },
  {
   "cell_type": "code",
   "execution_count": 136,
   "metadata": {},
   "outputs": [
    {
     "name": "stdout",
     "output_type": "stream",
     "text": [
      "Test Image Selected: 8928\n"
     ]
    },
    {
     "data": {
      "image/png": "[encoded data removed]",
      "text/plain": [
       "<Figure size 144x144 with 1 Axes>"
      ]
     },
     "metadata": {},
     "output_type": "display_data"
    },
    {
     "name": "stdout",
     "output_type": "stream",
     "text": [
      "Top-4 Simmilar Images\n"
     ]
    },
    {
     "data": {
      "image/png": "[encoded data removed]",
      "text/plain": [
       "<Figure size 576x576 with 4 Axes>"
      ]
     },
     "metadata": {},
     "output_type": "display_data"
    },
    {
     "name": "stdout",
     "output_type": "stream",
     "text": [
      "Bottom-4 Simmilar Images\n"
     ]
    },
    {
     "data": {
      "image/png": "[encoded data removed]",
      "text/plain": [
       "<Figure size 576x576 with 4 Axes>"
      ]
     },
     "metadata": {},
     "output_type": "display_data"
    }
   ],
   "source": [
    "import random\n",
    "import matplotlib.pyplot as plt\n",
    "x=[]\n",
    "N_predictions=10\n",
    "while len(x)<1:\n",
    "    plt.figure(figsize=(2,2))\n",
    "    num=random.randint(0,len(xtest))\n",
    "    #print(num)\n",
    "    x.append(num)\n",
    "    print(\"Test Image Selected: \"+str(num))\n",
    "    \n",
    "    img=xtest[num]\n",
    "    plt.imshow(img)  # graph it\n",
    "    plt.show()\n",
    "    x2=featuresTest[num]\n",
    "    distances={}\n",
    "    for j in range(len(featuresTraining)):\n",
    "        x1=featuresTraining[j]\n",
    "        dis=np.linalg.norm(x1-x2)\n",
    "        distances[j]=dis        \n",
    "    #print(totalClass)\n",
    "    fig = plt.figure(figsize=(8,8))\n",
    "    sorted_distances = sorted(distances.items(), key=lambda kv: kv[1])\n",
    "    sorted_distances=sorted_distances[:N_predictions]\n",
    "    imagesIndex=dict(sorted_distances).keys()\n",
    "    #print(list(imagesIndex)[:4])\n",
    "    k=1\n",
    "    print(\"Top-4 Simmilar Images\")\n",
    "    for i in range(len(list(imagesIndex)[:4])):\n",
    "        ax1 = fig.add_subplot(1,4,k)\n",
    "        ax1.imshow(xtrain[list(imagesIndex)[:4][i]])\n",
    "        k+=1\n",
    "    plt.show()\n",
    "    fig = plt.figure(figsize=(8,8))\n",
    "    k=1\n",
    "    \n",
    "    for i in range(len(list(imagesIndex)[-4:])):\n",
    "        ax1 = fig.add_subplot(1,4,k)\n",
    "        ax1.imshow(xtrain[list(imagesIndex)[-4:][i]])\n",
    "        k+=1\n",
    "    print(\"Bottom-4 Simmilar Images\")"
   ]
  },
  {
   "cell_type": "code",
   "execution_count": null,
   "metadata": {},
   "outputs": [],
   "source": []
  }
 ],
 "metadata": {
  "kernelspec": {
   "display_name": ".venv",
   "language": "python",
   "name": ".venv"
  },
  "language_info": {
   "codemirror_mode": {
    "name": "ipython",
    "version": 3
   },
   "file_extension": ".py",
   "mimetype": "text/x-python",
   "name": "python",
   "nbconvert_exporter": "python",
   "pygments_lexer": "ipython3",
   "version": "3.6.5"
  }
 },
 "nbformat": 4,
 "nbformat_minor": 2
}
